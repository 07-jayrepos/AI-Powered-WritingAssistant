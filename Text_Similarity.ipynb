{
  "cells": [
    {
      "cell_type": "code",
      "execution_count": null,
      "metadata": {
        "colab": {
          "background_save": true,
          "base_uri": "https://localhost:8080/"
        },
        "id": "2t1ncjem9gBw",
        "outputId": "af683341-ca7c-41c6-869e-1cb05d14f2bc"
      },
      "outputs": [
        {
          "name": "stdout",
          "output_type": "stream",
          "text": [
            "Looking in indexes: https://pypi.org/simple, https://us-python.pkg.dev/colab-wheels/public/simple/\n",
            "Requirement already satisfied: spacy in /usr/local/lib/python3.9/dist-packages (3.5.1)\n",
            "Requirement already satisfied: requests<3.0.0,>=2.13.0 in /usr/local/lib/python3.9/dist-packages (from spacy) (2.27.1)\n",
            "Requirement already satisfied: langcodes<4.0.0,>=3.2.0 in /usr/local/lib/python3.9/dist-packages (from spacy) (3.3.0)\n",
            "Requirement already satisfied: tqdm<5.0.0,>=4.38.0 in /usr/local/lib/python3.9/dist-packages (from spacy) (4.65.0)\n",
            "Requirement already satisfied: setuptools in /usr/local/lib/python3.9/dist-packages (from spacy) (67.6.1)\n",
            "Requirement already satisfied: pydantic!=1.8,!=1.8.1,<1.11.0,>=1.7.4 in /usr/local/lib/python3.9/dist-packages (from spacy) (1.10.7)\n",
            "Requirement already satisfied: pathy>=0.10.0 in /usr/local/lib/python3.9/dist-packages (from spacy) (0.10.1)\n",
            "Requirement already satisfied: srsly<3.0.0,>=2.4.3 in /usr/local/lib/python3.9/dist-packages (from spacy) (2.4.6)\n",
            "Requirement already satisfied: thinc<8.2.0,>=8.1.8 in /usr/local/lib/python3.9/dist-packages (from spacy) (8.1.9)\n",
            "Requirement already satisfied: cymem<2.1.0,>=2.0.2 in /usr/local/lib/python3.9/dist-packages (from spacy) (2.0.7)\n",
            "Requirement already satisfied: packaging>=20.0 in /usr/local/lib/python3.9/dist-packages (from spacy) (23.0)\n",
            "Requirement already satisfied: preshed<3.1.0,>=3.0.2 in /usr/local/lib/python3.9/dist-packages (from spacy) (3.0.8)\n",
            "Requirement already satisfied: catalogue<2.1.0,>=2.0.6 in /usr/local/lib/python3.9/dist-packages (from spacy) (2.0.8)\n",
            "Requirement already satisfied: murmurhash<1.1.0,>=0.28.0 in /usr/local/lib/python3.9/dist-packages (from spacy) (1.0.9)\n",
            "Requirement already satisfied: smart-open<7.0.0,>=5.2.1 in /usr/local/lib/python3.9/dist-packages (from spacy) (6.3.0)\n",
            "Requirement already satisfied: typer<0.8.0,>=0.3.0 in /usr/local/lib/python3.9/dist-packages (from spacy) (0.7.0)\n",
            "Requirement already satisfied: spacy-legacy<3.1.0,>=3.0.11 in /usr/local/lib/python3.9/dist-packages (from spacy) (3.0.12)\n",
            "Requirement already satisfied: numpy>=1.15.0 in /usr/local/lib/python3.9/dist-packages (from spacy) (1.22.4)\n",
            "Requirement already satisfied: wasabi<1.2.0,>=0.9.1 in /usr/local/lib/python3.9/dist-packages (from spacy) (1.1.1)\n",
            "Requirement already satisfied: spacy-loggers<2.0.0,>=1.0.0 in /usr/local/lib/python3.9/dist-packages (from spacy) (1.0.4)\n",
            "Requirement already satisfied: jinja2 in /usr/local/lib/python3.9/dist-packages (from spacy) (3.1.2)\n",
            "Requirement already satisfied: typing-extensions>=4.2.0 in /usr/local/lib/python3.9/dist-packages (from pydantic!=1.8,!=1.8.1,<1.11.0,>=1.7.4->spacy) (4.5.0)\n",
            "Requirement already satisfied: certifi>=2017.4.17 in /usr/local/lib/python3.9/dist-packages (from requests<3.0.0,>=2.13.0->spacy) (2022.12.7)\n",
            "Requirement already satisfied: charset-normalizer~=2.0.0 in /usr/local/lib/python3.9/dist-packages (from requests<3.0.0,>=2.13.0->spacy) (2.0.12)\n",
            "Requirement already satisfied: idna<4,>=2.5 in /usr/local/lib/python3.9/dist-packages (from requests<3.0.0,>=2.13.0->spacy) (3.4)\n",
            "Requirement already satisfied: urllib3<1.27,>=1.21.1 in /usr/local/lib/python3.9/dist-packages (from requests<3.0.0,>=2.13.0->spacy) (1.26.15)\n",
            "Requirement already satisfied: confection<1.0.0,>=0.0.1 in /usr/local/lib/python3.9/dist-packages (from thinc<8.2.0,>=8.1.8->spacy) (0.0.4)\n",
            "Requirement already satisfied: blis<0.8.0,>=0.7.8 in /usr/local/lib/python3.9/dist-packages (from thinc<8.2.0,>=8.1.8->spacy) (0.7.9)\n",
            "Requirement already satisfied: click<9.0.0,>=7.1.1 in /usr/local/lib/python3.9/dist-packages (from typer<0.8.0,>=0.3.0->spacy) (8.1.3)\n",
            "Requirement already satisfied: MarkupSafe>=2.0 in /usr/local/lib/python3.9/dist-packages (from jinja2->spacy) (2.1.2)\n",
            "/usr/local/lib/python3.9/dist-packages/torch/cuda/__init__.py:497: UserWarning: Can't initialize NVML\n",
            "  warnings.warn(\"Can't initialize NVML\")\n",
            "2023-04-01 03:59:36.338413: I tensorflow/core/platform/cpu_feature_guard.cc:182] This TensorFlow binary is optimized to use available CPU instructions in performance-critical operations.\n",
            "To enable the following instructions: AVX2 FMA, in other operations, rebuild TensorFlow with the appropriate compiler flags.\n",
            "2023-04-01 03:59:38.039300: W tensorflow/compiler/tf2tensorrt/utils/py_utils.cc:38] TF-TRT Warning: Could not find TensorRT\n",
            "2023-04-01 03:59:40.516619: E tensorflow/compiler/xla/stream_executor/cuda/cuda_driver.cc:266] failed call to cuInit: CUDA_ERROR_NO_DEVICE: no CUDA-capable device is detected\n",
            "Looking in indexes: https://pypi.org/simple, https://us-python.pkg.dev/colab-wheels/public/simple/\n",
            "Collecting en-core-web-lg==3.5.0\n",
            "  Downloading https://github.com/explosion/spacy-models/releases/download/en_core_web_lg-3.5.0/en_core_web_lg-3.5.0-py3-none-any.whl (587.7 MB)\n",
            "\u001b[2K     \u001b[90m━━━━━━━━━━━━━━━━━━━━━━━━━━━━━━━━━━━━━━━\u001b[0m \u001b[32m587.7/587.7 MB\u001b[0m \u001b[31m2.6 MB/s\u001b[0m eta \u001b[36m0:00:00\u001b[0m\n",
            "\u001b[?25hRequirement already satisfied: spacy<3.6.0,>=3.5.0 in /usr/local/lib/python3.9/dist-packages (from en-core-web-lg==3.5.0) (3.5.1)\n",
            "Requirement already satisfied: srsly<3.0.0,>=2.4.3 in /usr/local/lib/python3.9/dist-packages (from spacy<3.6.0,>=3.5.0->en-core-web-lg==3.5.0) (2.4.6)\n",
            "Requirement already satisfied: pydantic!=1.8,!=1.8.1,<1.11.0,>=1.7.4 in /usr/local/lib/python3.9/dist-packages (from spacy<3.6.0,>=3.5.0->en-core-web-lg==3.5.0) (1.10.7)\n",
            "Requirement already satisfied: catalogue<2.1.0,>=2.0.6 in /usr/local/lib/python3.9/dist-packages (from spacy<3.6.0,>=3.5.0->en-core-web-lg==3.5.0) (2.0.8)\n",
            "Requirement already satisfied: tqdm<5.0.0,>=4.38.0 in /usr/local/lib/python3.9/dist-packages (from spacy<3.6.0,>=3.5.0->en-core-web-lg==3.5.0) (4.65.0)\n",
            "Requirement already satisfied: spacy-loggers<2.0.0,>=1.0.0 in /usr/local/lib/python3.9/dist-packages (from spacy<3.6.0,>=3.5.0->en-core-web-lg==3.5.0) (1.0.4)\n",
            "Requirement already satisfied: thinc<8.2.0,>=8.1.8 in /usr/local/lib/python3.9/dist-packages (from spacy<3.6.0,>=3.5.0->en-core-web-lg==3.5.0) (8.1.9)\n",
            "Requirement already satisfied: cymem<2.1.0,>=2.0.2 in /usr/local/lib/python3.9/dist-packages (from spacy<3.6.0,>=3.5.0->en-core-web-lg==3.5.0) (2.0.7)\n",
            "Requirement already satisfied: wasabi<1.2.0,>=0.9.1 in /usr/local/lib/python3.9/dist-packages (from spacy<3.6.0,>=3.5.0->en-core-web-lg==3.5.0) (1.1.1)\n",
            "Requirement already satisfied: pathy>=0.10.0 in /usr/local/lib/python3.9/dist-packages (from spacy<3.6.0,>=3.5.0->en-core-web-lg==3.5.0) (0.10.1)\n",
            "Requirement already satisfied: murmurhash<1.1.0,>=0.28.0 in /usr/local/lib/python3.9/dist-packages (from spacy<3.6.0,>=3.5.0->en-core-web-lg==3.5.0) (1.0.9)\n",
            "Requirement already satisfied: jinja2 in /usr/local/lib/python3.9/dist-packages (from spacy<3.6.0,>=3.5.0->en-core-web-lg==3.5.0) (3.1.2)\n",
            "Requirement already satisfied: spacy-legacy<3.1.0,>=3.0.11 in /usr/local/lib/python3.9/dist-packages (from spacy<3.6.0,>=3.5.0->en-core-web-lg==3.5.0) (3.0.12)\n",
            "Requirement already satisfied: numpy>=1.15.0 in /usr/local/lib/python3.9/dist-packages (from spacy<3.6.0,>=3.5.0->en-core-web-lg==3.5.0) (1.22.4)\n",
            "Requirement already satisfied: typer<0.8.0,>=0.3.0 in /usr/local/lib/python3.9/dist-packages (from spacy<3.6.0,>=3.5.0->en-core-web-lg==3.5.0) (0.7.0)\n",
            "Requirement already satisfied: setuptools in /usr/local/lib/python3.9/dist-packages (from spacy<3.6.0,>=3.5.0->en-core-web-lg==3.5.0) (67.6.1)\n",
            "Requirement already satisfied: preshed<3.1.0,>=3.0.2 in /usr/local/lib/python3.9/dist-packages (from spacy<3.6.0,>=3.5.0->en-core-web-lg==3.5.0) (3.0.8)\n",
            "Requirement already satisfied: langcodes<4.0.0,>=3.2.0 in /usr/local/lib/python3.9/dist-packages (from spacy<3.6.0,>=3.5.0->en-core-web-lg==3.5.0) (3.3.0)\n",
            "Requirement already satisfied: smart-open<7.0.0,>=5.2.1 in /usr/local/lib/python3.9/dist-packages (from spacy<3.6.0,>=3.5.0->en-core-web-lg==3.5.0) (6.3.0)\n",
            "Requirement already satisfied: requests<3.0.0,>=2.13.0 in /usr/local/lib/python3.9/dist-packages (from spacy<3.6.0,>=3.5.0->en-core-web-lg==3.5.0) (2.27.1)\n",
            "Requirement already satisfied: packaging>=20.0 in /usr/local/lib/python3.9/dist-packages (from spacy<3.6.0,>=3.5.0->en-core-web-lg==3.5.0) (23.0)\n",
            "Requirement already satisfied: typing-extensions>=4.2.0 in /usr/local/lib/python3.9/dist-packages (from pydantic!=1.8,!=1.8.1,<1.11.0,>=1.7.4->spacy<3.6.0,>=3.5.0->en-core-web-lg==3.5.0) (4.5.0)\n",
            "Requirement already satisfied: urllib3<1.27,>=1.21.1 in /usr/local/lib/python3.9/dist-packages (from requests<3.0.0,>=2.13.0->spacy<3.6.0,>=3.5.0->en-core-web-lg==3.5.0) (1.26.15)\n",
            "Requirement already satisfied: charset-normalizer~=2.0.0 in /usr/local/lib/python3.9/dist-packages (from requests<3.0.0,>=2.13.0->spacy<3.6.0,>=3.5.0->en-core-web-lg==3.5.0) (2.0.12)\n",
            "Requirement already satisfied: idna<4,>=2.5 in /usr/local/lib/python3.9/dist-packages (from requests<3.0.0,>=2.13.0->spacy<3.6.0,>=3.5.0->en-core-web-lg==3.5.0) (3.4)\n",
            "Requirement already satisfied: certifi>=2017.4.17 in /usr/local/lib/python3.9/dist-packages (from requests<3.0.0,>=2.13.0->spacy<3.6.0,>=3.5.0->en-core-web-lg==3.5.0) (2022.12.7)\n",
            "Requirement already satisfied: confection<1.0.0,>=0.0.1 in /usr/local/lib/python3.9/dist-packages (from thinc<8.2.0,>=8.1.8->spacy<3.6.0,>=3.5.0->en-core-web-lg==3.5.0) (0.0.4)\n",
            "Requirement already satisfied: blis<0.8.0,>=0.7.8 in /usr/local/lib/python3.9/dist-packages (from thinc<8.2.0,>=8.1.8->spacy<3.6.0,>=3.5.0->en-core-web-lg==3.5.0) (0.7.9)\n",
            "Requirement already satisfied: click<9.0.0,>=7.1.1 in /usr/local/lib/python3.9/dist-packages (from typer<0.8.0,>=0.3.0->spacy<3.6.0,>=3.5.0->en-core-web-lg==3.5.0) (8.1.3)\n",
            "Requirement already satisfied: MarkupSafe>=2.0 in /usr/local/lib/python3.9/dist-packages (from jinja2->spacy<3.6.0,>=3.5.0->en-core-web-lg==3.5.0) (2.1.2)\n",
            "Installing collected packages: en-core-web-lg\n",
            "Successfully installed en-core-web-lg-3.5.0\n",
            "\u001b[38;5;2m✔ Download and installation successful\u001b[0m\n",
            "You can now load the package via spacy.load('en_core_web_lg')\n"
          ]
        }
      ],
      "source": [
        "!pip install -U spacy\n",
        "!python -m spacy download en_core_web_lg"
      ]
    },
    {
      "cell_type": "code",
      "execution_count": null,
      "metadata": {
        "colab": {
          "background_save": true
        },
        "id": "k7F72U6B9gzp",
        "outputId": "6c792cb7-1d3f-42db-f943-7e34f5eafd7f"
      },
      "outputs": [
        {
          "name": "stderr",
          "output_type": "stream",
          "text": [
            "/usr/local/lib/python3.9/dist-packages/torch/cuda/__init__.py:497: UserWarning: Can't initialize NVML\n",
            "  warnings.warn(\"Can't initialize NVML\")\n"
          ]
        }
      ],
      "source": [
        "import spacy"
      ]
    },
    {
      "cell_type": "code",
      "execution_count": null,
      "metadata": {
        "colab": {
          "background_save": true
        },
        "id": "8x3w_pG99sxg"
      },
      "outputs": [],
      "source": [
        "nlp = spacy.load(\"en_core_web_lg\")"
      ]
    },
    {
      "cell_type": "code",
      "execution_count": null,
      "metadata": {
        "colab": {
          "background_save": true
        },
        "id": "nUMEmaz2-QbR"
      },
      "outputs": [],
      "source": [
        "word1 = \"red\"\n",
        "word2 = \"walking\"\n",
        "word3 = \"color\"\n",
        "word4 = \"yellow\"\n",
        "word5 = \"blue\"\n",
        "\n",
        "word1_nlp = nlp.vocab[word1]\n",
        "word2_nlp = nlp.vocab[word2]\n",
        "word3_nlp = nlp.vocab[word3]\n",
        "word4_nlp = nlp.vocab[word4]\n",
        "word5_nlp = nlp.vocab[word5]"
      ]
    },
    {
      "cell_type": "code",
      "execution_count": null,
      "metadata": {
        "colab": {
          "background_save": true
        },
        "id": "17OivW6v-VwN",
        "outputId": "626d2961-5d0d-4644-dda9-40d12ced225d"
      },
      "outputs": [
        {
          "name": "stdout",
          "output_type": "stream",
          "text": [
            "Similiarity of word \"red\" with word \"red\": 1.0\n",
            "Similiarity of word \"red\" with word \"walking\": 0.18171407282352448\n",
            "Similiarity of word \"red\" with word \"color\": 0.515526533126831\n",
            "Similiarity of word \"red\" with word \"yellow\": 0.8282849192619324\n",
            "Similiarity of word \"red\" with word \"blue\": 0.8113976716995239\n"
          ]
        }
      ],
      "source": [
        "print(\"Similiarity of word \\\"{}\\\" with word \\\"{}\\\": {}\".format(word1, word1, word1_nlp.similarity(word1_nlp)))\n",
        "print(\"Similiarity of word \\\"{}\\\" with word \\\"{}\\\": {}\".format(word1, word2, word1_nlp.similarity(word2_nlp)))\n",
        "print(\"Similiarity of word \\\"{}\\\" with word \\\"{}\\\": {}\".format(word1, word3, word1_nlp.similarity(word3_nlp)))\n",
        "print(\"Similiarity of word \\\"{}\\\" with word \\\"{}\\\": {}\".format(word1, word4, word1_nlp.similarity(word4_nlp)))\n",
        "print(\"Similiarity of word \\\"{}\\\" with word \\\"{}\\\": {}\".format(word1, word5, word1_nlp.similarity(word5_nlp)))"
      ]
    },
    {
      "cell_type": "code",
      "execution_count": null,
      "metadata": {
        "colab": {
          "background_save": true
        },
        "id": "PVI4jFPn-xe_"
      },
      "outputs": [],
      "source": [
        "phrase1 = \"I believe in the God of the Bible\"\n",
        "phrase2 = \"I trust in a higher power of Christianity\"\n",
        "phrase3 = \"This weekend John will drink a beer\"\n",
        "\n",
        "phrase1_nlp = nlp(phrase1)\n",
        "phrase2_nlp = nlp(phrase2)\n",
        "phrase3_nlp = nlp(phrase3)"
      ]
    },
    {
      "cell_type": "code",
      "execution_count": null,
      "metadata": {
        "colab": {
          "background_save": true
        },
        "id": "tlHeGM-bPm7i",
        "outputId": "2374bb6b-ecb5-4363-d231-30a5e479f960"
      },
      "outputs": [
        {
          "name": "stdout",
          "output_type": "stream",
          "text": [
            "Similiarity of \"I believe in the God of the Bible\" with \"I trust in a higher power of Christianity\": 0.8668602356381389\n",
            "Similiarity of \"I believe in the God of the Bible\" with \"This weekend John will drink a beer\": 0.4052990217577357\n",
            "Similiarity of \"I trust in a higher power of Christianity\" with \"This weekend John will drink a beer\": 0.5301483997521251\n"
          ]
        }
      ],
      "source": [
        "print(\"Similiarity of \\\"{}\\\" with \\\"{}\\\": {}\".format(phrase1, phrase2, phrase1_nlp.similarity(phrase2_nlp)))\n",
        "print(\"Similiarity of \\\"{}\\\" with \\\"{}\\\": {}\".format(phrase1, phrase3, phrase1_nlp.similarity(phrase3_nlp)))\n",
        "print(\"Similiarity of \\\"{}\\\" with \\\"{}\\\": {}\".format(phrase2, phrase3, phrase2_nlp.similarity(phrase3_nlp)))"
      ]
    },
    {
      "cell_type": "code",
      "execution_count": null,
      "metadata": {
        "colab": {
          "background_save": true
        },
        "id": "suZmDcK8PpxH"
      },
      "outputs": [],
      "source": [
        "phrase1 = \"I don't know whether I want you.\"\n",
        "phrase2 = \"This is not the weather for it. I warned you.\"\n",
        "phrase3 = \"Today is an awful rainy day and I told you so.\"\n",
        "\n",
        "phrase1_nlp = nlp(phrase1)\n",
        "phrase2_nlp = nlp(phrase2)\n",
        "phrase3_nlp = nlp(phrase3)"
      ]
    },
    {
      "cell_type": "code",
      "execution_count": null,
      "metadata": {
        "colab": {
          "background_save": true
        },
        "id": "XZd2z4MSPtK8",
        "outputId": "914ed74a-d9b6-4a6d-be51-c7b225a5b87f"
      },
      "outputs": [
        {
          "name": "stdout",
          "output_type": "stream",
          "text": [
            "Similiarity of \"I don't know whether I want you.\" with \"This is not the weather for it. I warned you.\": 0.702873944088662\n",
            "Similiarity of \"I don't know whether I want you.\" with \"Today is an awful rainy day and I told you so.\": 0.7080666553451508\n",
            "Similiarity of \"This is not the weather for it. I warned you.\" with \"Today is an awful rainy day and I told you so.\": 0.8598345854247166\n"
          ]
        }
      ],
      "source": [
        "print(\"Similiarity of \\\"{}\\\" with \\\"{}\\\": {}\".format(phrase1, phrase2, phrase1_nlp.similarity(phrase2_nlp)))\n",
        "print(\"Similiarity of \\\"{}\\\" with \\\"{}\\\": {}\".format(phrase1, phrase3, phrase1_nlp.similarity(phrase3_nlp)))\n",
        "print(\"Similiarity of \\\"{}\\\" with \\\"{}\\\": {}\".format(phrase2, phrase3, phrase2_nlp.similarity(phrase3_nlp)))"
      ]
    },
    {
      "cell_type": "code",
      "execution_count": null,
      "metadata": {
        "colab": {
          "background_save": true
        },
        "id": "8xiLtYF_Pw5K"
      },
      "outputs": [],
      "source": [
        "phrase1_verbs = \" \".join([\"\\\"\" + token.lemma_ + \"\\\"\" for token in phrase1_nlp if token.pos_ == \"VERB\"])\n",
        "phrase1_adjs = \" \".join([\"\\\"\" + token.lemma_ + \"\\\"\" for token in phrase1_nlp if token.pos_ == \"ADJ\"])\n",
        "phrase1_nouns = \" \".join([\"\\\"\" + token.lemma_ + \"\\\"\" for token in phrase1_nlp if token.pos_ == \"NOUN\"])\n",
        "\n",
        "phrase2_verbs = \" \".join([\"\\\"\" + token.lemma_ + \"\\\"\" for token in phrase2_nlp if token.pos_ == \"VERB\"])\n",
        "phrase2_adjs = \" \".join([\"\\\"\" + token.lemma_ + \"\\\"\" for token in phrase2_nlp if token.pos_ == \"ADJ\"])\n",
        "phrase2_nouns = \" \".join([\"\\\"\" + token.lemma_ + \"\\\"\" for token in phrase2_nlp if token.pos_ == \"NOUN\"])\n",
        "\n",
        "phrase3_verbs = \" \".join([\"\\\"\" + token.lemma_ + \"\\\"\" for token in phrase3_nlp if token.pos_ == \"VERB\"])\n",
        "phrase3_adjs = \" \".join([\"\\\"\" + token.lemma_ + \"\\\"\" for token in phrase3_nlp if token.pos_ == \"ADJ\"])\n",
        "phrase3_nouns = \" \".join([\"\\\"\" + token.lemma_ + \"\\\"\" for token in phrase3_nlp if token.pos_ == \"NOUN\"])"
      ]
    },
    {
      "cell_type": "code",
      "execution_count": null,
      "metadata": {
        "colab": {
          "background_save": true
        },
        "id": "brPsy8wtP4J_",
        "outputId": "de7a25b9-465d-41da-8ef4-c232bd9f517a"
      },
      "outputs": [
        {
          "name": "stdout",
          "output_type": "stream",
          "text": [
            "Verbs of \"I don't know whether I want you.\": \"know\" \"want\"\n",
            "Adjectives of \"I don't know whether I want you.\": \n",
            "Nouns of \"I don't know whether I want you.\": \n",
            "\n",
            "Verbs of \"This is not the weather for it. I warned you.\": \"warn\"\n",
            "Adjectives of \"This is not the weather for it. I warned you.\": \n",
            "Nouns of \"This is not the weather for it. I warned you.\": \"weather\"\n",
            "\n",
            "Verbs of \"Today is an awful rainy day and I told you so.\": \"tell\"\n",
            "Adjectives of \"Today is an awful rainy day and I told you so.\": \"awful\" \"rainy\"\n",
            "Nouns of \"Today is an awful rainy day and I told you so.\": \"today\" \"day\"\n"
          ]
        }
      ],
      "source": [
        "print(\"Verbs of \\\"{}\\\": {}\".format(phrase1, phrase1_verbs))\n",
        "print(\"Adjectives of \\\"{}\\\": {}\".format(phrase1, phrase1_adjs))\n",
        "print(\"Nouns of \\\"{}\\\": {}\\n\".format(phrase1, phrase1_nouns))\n",
        "\n",
        "print(\"Verbs of \\\"{}\\\": {}\".format(phrase2, phrase2_verbs))\n",
        "print(\"Adjectives of \\\"{}\\\": {}\".format(phrase2, phrase2_adjs))\n",
        "print(\"Nouns of \\\"{}\\\": {}\\n\".format(phrase2, phrase2_nouns))\n",
        "\n",
        "print(\"Verbs of \\\"{}\\\": {}\".format(phrase3, phrase3_verbs))\n",
        "print(\"Adjectives of \\\"{}\\\": {}\".format(phrase3, phrase3_adjs))\n",
        "print(\"Nouns of \\\"{}\\\": {}\".format(phrase3, phrase3_nouns))"
      ]
    },
    {
      "cell_type": "code",
      "execution_count": null,
      "metadata": {
        "colab": {
          "background_save": true
        },
        "id": "CMQ0Gj1EP7XS",
        "outputId": "a5b1d115-9f09-403c-c391-0fe5b0b52db7"
      },
      "outputs": [
        {
          "name": "stdout",
          "output_type": "stream",
          "text": [
            "Similiarity of the verbs of \"I don't know whether I want you.\" with \"This is not the weather for it. I warned you.\": 0.9646898704609104\n",
            "Similiarity of the verbs of \"I don't know whether I want you.\" with \"Today is an awful rainy day and I told you so.\": 0.9771885703687594\n",
            "Similiarity of the verbs of \"This is not the weather for it. I warned you.\" with \"Today is an awful rainy day and I told you so.\": 0.9689838961849674\n",
            "\n",
            "Similiarity of the adjectives of \"I don't know whether I want you.\" with \"This is not the weather for it. I warned you.\": 1.0\n",
            "Similiarity of the adjectives of \"I don't know whether I want you.\" with \"Today is an awful rainy day and I told you so.\": 0.0\n",
            "Similiarity of the adjectives of \"This is not the weather for it. I warned you.\" with \"Today is an awful rainy day and I told you so.\": 0.0\n",
            "\n",
            "Similiarity of the nouns of \"I don't know whether I want you.\" with \"This is not the weather for it. I warned you.\": 0.0\n",
            "Similiarity of the nouns of \"I don't know whether I want you.\" with \"Today is an awful rainy day and I told you so.\": 0.0\n",
            "Similiarity of the nouns of \"This is not the weather for it. I warned you.\" with \"Today is an awful rainy day and I told you so.\": 0.9628292097071818\n"
          ]
        },
        {
          "name": "stderr",
          "output_type": "stream",
          "text": [
            "<ipython-input-12-a6cbd0d5144c>:6: UserWarning: [W008] Evaluating Doc.similarity based on empty vectors.\n",
            "  print(\"Similiarity of the adjectives of \\\"{}\\\" with \\\"{}\\\": {}\".format(phrase1, phrase3, nlp(phrase1_adjs).similarity(nlp(phrase3_adjs))))\n",
            "<ipython-input-12-a6cbd0d5144c>:7: UserWarning: [W008] Evaluating Doc.similarity based on empty vectors.\n",
            "  print(\"Similiarity of the adjectives of \\\"{}\\\" with \\\"{}\\\": {}\\n\".format(phrase2, phrase3, nlp(phrase2_adjs).similarity(nlp(phrase3_adjs))))\n",
            "<ipython-input-12-a6cbd0d5144c>:9: UserWarning: [W008] Evaluating Doc.similarity based on empty vectors.\n",
            "  print(\"Similiarity of the nouns of \\\"{}\\\" with \\\"{}\\\": {}\".format(phrase1, phrase2, nlp(phrase1_nouns).similarity(nlp(phrase2_nouns))))\n",
            "<ipython-input-12-a6cbd0d5144c>:10: UserWarning: [W008] Evaluating Doc.similarity based on empty vectors.\n",
            "  print(\"Similiarity of the nouns of \\\"{}\\\" with \\\"{}\\\": {}\".format(phrase1, phrase3, nlp(phrase1_nouns).similarity(nlp(phrase3_nouns))))\n"
          ]
        }
      ],
      "source": [
        "print(\"Similiarity of the verbs of \\\"{}\\\" with \\\"{}\\\": {}\".format(phrase1, phrase2, nlp(phrase1_verbs).similarity(nlp(phrase2_verbs))))\n",
        "print(\"Similiarity of the verbs of \\\"{}\\\" with \\\"{}\\\": {}\".format(phrase1, phrase3, nlp(phrase1_verbs).similarity(nlp(phrase3_verbs))))\n",
        "print(\"Similiarity of the verbs of \\\"{}\\\" with \\\"{}\\\": {}\\n\".format(phrase2, phrase3, nlp(phrase2_verbs).similarity(nlp(phrase3_verbs))))\n",
        "\n",
        "print(\"Similiarity of the adjectives of \\\"{}\\\" with \\\"{}\\\": {}\".format(phrase1, phrase2, nlp(phrase1_adjs).similarity(nlp(phrase2_adjs))))\n",
        "print(\"Similiarity of the adjectives of \\\"{}\\\" with \\\"{}\\\": {}\".format(phrase1, phrase3, nlp(phrase1_adjs).similarity(nlp(phrase3_adjs))))\n",
        "print(\"Similiarity of the adjectives of \\\"{}\\\" with \\\"{}\\\": {}\\n\".format(phrase2, phrase3, nlp(phrase2_adjs).similarity(nlp(phrase3_adjs))))\n",
        "\n",
        "print(\"Similiarity of the nouns of \\\"{}\\\" with \\\"{}\\\": {}\".format(phrase1, phrase2, nlp(phrase1_nouns).similarity(nlp(phrase2_nouns))))\n",
        "print(\"Similiarity of the nouns of \\\"{}\\\" with \\\"{}\\\": {}\".format(phrase1, phrase3, nlp(phrase1_nouns).similarity(nlp(phrase3_nouns))))\n",
        "print(\"Similiarity of the nouns of \\\"{}\\\" with \\\"{}\\\": {}\".format(phrase2, phrase3, nlp(phrase2_nouns).similarity(nlp(phrase3_nouns))))"
      ]
    },
    {
      "cell_type": "code",
      "execution_count": null,
      "metadata": {
        "colab": {
          "background_save": true
        },
        "id": "qCBTXepCP-4p"
      },
      "outputs": [],
      "source": []
    }
  ],
  "metadata": {
    "colab": {
      "provenance": []
    },
    "kernelspec": {
      "display_name": "Python 3",
      "name": "python3"
    },
    "language_info": {
      "name": "python"
    }
  },
  "nbformat": 4,
  "nbformat_minor": 0
}